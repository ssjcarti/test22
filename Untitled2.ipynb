{
  "cells": [
    {
      "cell_type": "markdown",
      "metadata": {
        "id": "view-in-github",
        "colab_type": "text"
      },
      "source": [
        "<a href=\"https://colab.research.google.com/github/ssjcarti/test22/blob/main/Untitled2.ipynb\" target=\"_parent\"><img src=\"https://colab.research.google.com/assets/colab-badge.svg\" alt=\"Open In Colab\"/></a>"
      ]
    },
    {
      "cell_type": "code",
      "execution_count": null,
      "metadata": {
        "id": "KzdCHHQSbjFS"
      },
      "outputs": [],
      "source": [
        "# prompt:\n",
        "\n",
        "None\n"
      ]
    },
    {
      "cell_type": "code",
      "source": [],
      "metadata": {
        "id": "Xq5SvaScQKbm"
      },
      "execution_count": null,
      "outputs": []
    },
    {
      "cell_type": "code",
      "execution_count": null,
      "metadata": {
        "colab": {
          "background_save": true,
          "base_uri": "https://localhost:8080/"
        },
        "id": "_kf2c_1Rbp8o",
        "outputId": "ba923e38-c3c9-4878-b10a-ec448b23bbde"
      },
      "outputs": [
        {
          "name": "stdout",
          "output_type": "stream",
          "text": [
            "Virtual Assistant: Hello! How can I assist you today?\n",
            "Virtual Assistant: I'm sorry, but I don't have access to real-time weather information.\n",
            "Virtual Assistant: I'm sorry, I don't have the information you're looking for.\n",
            "Virtual Assistant: I'm sorry, I don't have the information you're looking for.\n",
            "Virtual Assistant: I'm sorry, I don't have the information you're looking for.\n"
          ]
        }
      ],
      "source": [
        "import re\n",
        "\n",
        "def respond_to_greeting():\n",
        "    return \"Hi! How can I help you today?\"\n",
        "\n",
        "def respond_to_weather_inquiry():\n",
        "    return \"I'm sorry, but I don't have access to real-time weather information.\"\n",
        "\n",
        "def respond_to_general_question():\n",
        "    return \"I'm sorry, I don't have the information you're looking for.\"\n",
        "\n",
        "def virtual_assistant(input_text):\n",
        "    greetings_pattern = re.compile(r'\\b(?:hi|hello|hey)\\b', re.IGNORECASE)\n",
        "    weather_pattern = re.compile(r'\\b(?:weather)\\b', re.IGNORECASE)\n",
        "\n",
        "    if re.search(greetings_pattern, input_text):\n",
        "        return respond_to_greeting()\n",
        "    elif re.search(weather_pattern, input_text):\n",
        "        return respond_to_weather_inquiry()\n",
        "    else:\n",
        "        return respond_to_general_question()\n",
        "\n",
        "if __name__ == \"__main__\":\n",
        "    print(\"Virtual Assistant: Hello! How can I assist you today?\")\n",
        "\n",
        "    while True:\n",
        "        user_input = input(\"You: \")\n",
        "        if user_input.lower() in ['exit', 'quit', 'bye']:\n",
        "            print(\"Virtual Assistant: Goodbye!\")\n",
        "            break\n",
        "\n",
        "        response = virtual_assistant(user_input)\n",
        "        print(\"Virtual Assistant:\", response)\n"
      ]
    }
  ],
  "metadata": {
    "colab": {
      "provenance": [],
      "authorship_tag": "ABX9TyOz6lhF3mBbnwIDD43pvTHW",
      "include_colab_link": true
    },
    "kernelspec": {
      "display_name": "Python 3",
      "name": "python3"
    },
    "language_info": {
      "name": "python"
    }
  },
  "nbformat": 4,
  "nbformat_minor": 0
}