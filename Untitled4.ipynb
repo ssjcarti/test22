{
  "nbformat": 4,
  "nbformat_minor": 0,
  "metadata": {
    "colab": {
      "provenance": [],
      "authorship_tag": "ABX9TyNe28fKaofEL/R+1JSWS8Ih",
      "include_colab_link": true
    },
    "kernelspec": {
      "name": "python3",
      "display_name": "Python 3"
    },
    "language_info": {
      "name": "python"
    }
  },
  "cells": [
    {
      "cell_type": "markdown",
      "metadata": {
        "id": "view-in-github",
        "colab_type": "text"
      },
      "source": [
        "<a href=\"https://colab.research.google.com/github/ssjcarti/test22/blob/main/Untitled4.ipynb\" target=\"_parent\"><img src=\"https://colab.research.google.com/assets/colab-badge.svg\" alt=\"Open In Colab\"/></a>"
      ]
    },
    {
      "cell_type": "code",
      "execution_count": null,
      "metadata": {
        "id": "v42noVVMu76y",
        "outputId": "b88a1abc-fca5-40dd-9921-5be69cc76845",
        "colab": {
          "base_uri": "https://localhost:8080/"
        }
      },
      "outputs": [
        {
          "output_type": "stream",
          "name": "stdout",
          "text": [
            "Welcome to the Anime Guessing Game!\n",
            "Guess the anime based on the description.\n",
            "\n",
            "Description: In a world where humanity resides within enormous walled cities to protect themselves from Titans, gigantic humanoid creatures, the story follows Eren Yeager and his friends who join the military to fight the Titans.\n",
            "Your Guess: naruto\n",
            "Wrong! The correct answer is Attack on Titan.\n",
            "\n",
            "\n",
            "Description: Follows Monkey D. Luffy and his pirate crew in order to find the greatest treasure ever left by the legendary Pirate, Gold Roger.\n",
            "Your Guess: onepiece\n",
            "Wrong! The correct answer is One Piece.\n",
            "\n",
            "\n",
            "Description: A young ninja seeks recognition from his peers and dreams of becoming the Hokage.\n",
            "Your Guess: naruto\n",
            "Correct! You guessed it.\n",
            "\n",
            "Game Over! Thanks for playing.\n"
          ]
        }
      ],
      "source": [
        " import random\n",
        "\n",
        "# Define a list of anime titles and their descriptions\n",
        "anime_data = [\n",
        "    {\"title\": \"Naruto\", \"description\": \"A young ninja seeks recognition from his peers and dreams of becoming the Hokage.\"},\n",
        "    {\"title\": \"One Piece\", \"description\": \"Follows Monkey D. Luffy and his pirate crew in order to find the greatest treasure ever left by the legendary Pirate, Gold Roger.\"},\n",
        "    {\"title\": \"Attack on Titan\", \"description\": \"In a world where humanity resides within enormous walled cities to protect themselves from Titans, gigantic humanoid creatures, the story follows Eren Yeager and his friends who join the military to fight the Titans.\"},\n",
        "    # Add more anime titles and descriptions as needed\n",
        "]\n",
        "\n",
        "# Function to start the game\n",
        "def anime_guessing_game():\n",
        "    # Shuffle the anime data to randomize the order\n",
        "    random.shuffle(anime_data)\n",
        "\n",
        "    # Welcome message\n",
        "    print(\"Welcome to the Anime Guessing Game!\")\n",
        "    print(\"Guess the anime based on the description.\")\n",
        "\n",
        "    # Iterate through the anime data\n",
        "    for anime in anime_data:\n",
        "        # Display the description\n",
        "        print(\"\\nDescription:\", anime[\"description\"])\n",
        "\n",
        "        # User input for guessing the anime\n",
        "        user_guess = input(\"Your Guess: \")\n",
        "\n",
        "        # Check if the guess is correct\n",
        "        if user_guess.lower() == anime[\"title\"].lower():\n",
        "            print(\"Correct! You guessed it.\\n\")\n",
        "        else:\n",
        "            print(f\"Wrong! The correct answer is {anime['title']}.\\n\")\n",
        "\n",
        "    # Game over message\n",
        "    print(\"Game Over! Thanks for playing.\")\n",
        "\n",
        "# Start the game\n",
        "anime_guessing_game()\n"
      ]
    }
  ]
}